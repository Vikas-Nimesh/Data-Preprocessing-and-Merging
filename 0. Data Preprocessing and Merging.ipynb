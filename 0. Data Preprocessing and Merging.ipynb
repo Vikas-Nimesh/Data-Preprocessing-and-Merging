{
 "cells": [
  {
   "cell_type": "markdown",
   "id": "6e2335bd",
   "metadata": {},
   "source": [
    "<img src=\"https://res.cloudinary.com/practicaldev/image/fetch/s--0NjKq1sP--/c_imagga_scale,f_auto,fl_progressive,h_420,q_auto,w_1000/https://dev-to-uploads.s3.amazonaws.com/i/ahxftwer1lt7514gwfsr.png\" width=\"375\">"
   ]
  },
  {
   "cell_type": "markdown",
   "id": "136c04ad",
   "metadata": {},
   "source": [
    "# Table of Contents"
   ]
  },
  {
   "cell_type": "markdown",
   "id": "e6cac252",
   "metadata": {},
   "source": [
    "### [1. Filtering, Removing and Filling in Missing Data](1.%20Filtering%2C%20Removing%20and%20Filling%20in%20Missing%20Data.ipynb)"
   ]
  },
  {
   "cell_type": "markdown",
   "id": "827bff1e",
   "metadata": {},
   "source": [
    "### [2. Duplicates and Renaming [index and columns] Data](2.%20Duplicates%20and%20Renaming%20%5Bindex%20and%20columns%5D%20Data.ipynb)"
   ]
  },
  {
   "cell_type": "markdown",
   "id": "d7c1342f",
   "metadata": {},
   "source": [
    "### [3. Filtering outliers, Sampling and Dummy Variables](3.%20Filtering%20outliers%2C%20Sampling%20and%20Dummy%20Variables.ipynb)"
   ]
  },
  {
   "cell_type": "markdown",
   "id": "ffd67045",
   "metadata": {},
   "source": [
    "### [4. Merging Datasets on Keys (common columns)](4.%20Merging%20Datasets%20on%20Keys%20%5Bcommon%20columns%5D.ipynb)"
   ]
  },
  {
   "cell_type": "markdown",
   "id": "5476ffa8",
   "metadata": {},
   "source": [
    "### [5. Merging Datasets on Index](5.%20Merging%20Datasets%20on%20Index.ipynb)"
   ]
  },
  {
   "cell_type": "markdown",
   "id": "5c337221",
   "metadata": {},
   "source": [
    "### [6. Concatenating Along An Axis](6.%20Concatenating%20Along%20An%20Axis.ipynb)"
   ]
  }
 ],
 "metadata": {
  "kernelspec": {
   "display_name": "Python 3 (ipykernel)",
   "language": "python",
   "name": "python3"
  },
  "language_info": {
   "codemirror_mode": {
    "name": "ipython",
    "version": 3
   },
   "file_extension": ".py",
   "mimetype": "text/x-python",
   "name": "python",
   "nbconvert_exporter": "python",
   "pygments_lexer": "ipython3",
   "version": "3.9.7"
  }
 },
 "nbformat": 4,
 "nbformat_minor": 5
}
